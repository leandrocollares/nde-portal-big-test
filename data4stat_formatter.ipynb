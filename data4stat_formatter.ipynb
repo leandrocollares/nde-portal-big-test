{
 "cells": [
  {
   "cell_type": "markdown",
   "id": "b2c005fd",
   "metadata": {},
   "source": [
    "## This notebook formats the data for additional statistical analysis\n",
    "\n",
    "The conditions for the big study follow a factorial design, so we should be able to apply statistical analyses commonly used with factorial Design of Experiment studies\n",
    "\n",
    "In Round 1, set 1 of the tests the intention was to test 4 combinations (combi 1-4) and 25 queries; however, some query combinations will have the same results, in which case the preference between the two cannot be tested. In those cases, a different combi was tested for that query"
   ]
  },
  {
   "cell_type": "code",
   "execution_count": 1,
   "id": "aec5806e",
   "metadata": {},
   "outputs": [],
   "source": [
    "import os\n",
    "import pandas as pd"
   ]
  },
  {
   "cell_type": "code",
   "execution_count": 2,
   "id": "04cbf45b",
   "metadata": {},
   "outputs": [],
   "source": [
    "script_path = os.getcwd()\n",
    "datapath = os.path.join(script_path,'data')\n",
    "datafile = os.path.join(datapath,'data.tsv')\n",
    "scopesfile = os.path.join(datapath,'scopes.tsv')\n",
    "orig_data = pd.read_csv(datafile,delimiter='\\t',header=0)\n",
    "datascope = pd.read_csv(scopesfile,delimiter='\\t',header=0)"
   ]
  },
  {
   "cell_type": "code",
   "execution_count": 3,
   "id": "037fa3ad",
   "metadata": {},
   "outputs": [
    {
     "name": "stdout",
     "output_type": "stream",
     "text": [
      "   round  test search term test type combo 1  ps 1  pct ps 1  time 1 combo 2  \\\n",
      "0      1     1   influenza         M      c1     2        40      34      c3   \n",
      "1      1     1   influenza         L      c3     2        40      57      c4   \n",
      "\n",
      "   ps 2  pct ps 2  time 2 combo 3  ps 3  pct ps 3  time 3 combo 4  ps 4  \\\n",
      "0     1        20   156.0      c4     1        20   105.0      c2   1.0   \n",
      "1     2        40    34.0      c1     1        20    23.0      c2   0.0   \n",
      "\n",
      "   pct ps 4  time 4  \n",
      "0      20.0    71.0  \n",
      "1       0.0     NaN  \n",
      "  search term       scope              domain\n",
      "0   influenza  very broad  Infectious Disease\n",
      "1  long covid       broad  Infectious Disease\n",
      "25\n",
      "102\n",
      "51 51\n",
      "0\n",
      "51 51\n",
      "0\n",
      "['influenza', 'long covid', 'malaria therapeutics', 'asthma', 'naegleria fowleri infection', 'zika microcephaly', 'allergen skin prick test', 'allergy treatment', 'sublingual immunotherapy', 'AIDS', 'immunotherapeutics', 't-cell function', \"addison's disease\", 'cancer', 'myocardial infarction', 'dendritic cells ', 'mast cells', 'rational cancer drug design', 'metabolomics', 'pinealocyte', 'plasmacytoid dendritic cells', 'gwas', 'mycobacterium', 'tuberculin skin test', 'hiv']\n"
     ]
    }
   ],
   "source": [
    "## confirm that the data is as expected and clean up as needed\n",
    "print(orig_data.head(n=2))\n",
    "print(datascope.head(n=2))\n",
    "print(len(datascope))\n",
    "print(len(orig_data))\n",
    "print(len(orig_data.loc[orig_data['test type']=='M']),len(orig_data.loc[orig_data['test type']=='L']))\n",
    "print(len(orig_data.loc[orig_data['test type']=='M ']))\n",
    "orig_data['test type'] = [x.strip() for x in orig_data['test type']]\n",
    "print(len(orig_data.loc[orig_data['test type']=='M']),len(orig_data.loc[orig_data['test type']=='L']))\n",
    "print(len(orig_data.loc[orig_data['test type']=='M ']))\n",
    "search_terms = datascope['search term'].unique().tolist()\n",
    "print(search_terms)"
   ]
  },
  {
   "cell_type": "code",
   "execution_count": 4,
   "id": "16ae9cf8",
   "metadata": {},
   "outputs": [
    {
     "name": "stdout",
     "output_type": "stream",
     "text": [
      "102\n",
      "   round  test search term       scope              domain test type  \\\n",
      "0      1     1   influenza  very broad  Infectious Disease         M   \n",
      "1      1     1   influenza  very broad  Infectious Disease         L   \n",
      "\n",
      "  selection  participants  selection time  \n",
      "0        c1           2.0            34.0  \n",
      "1        c3           2.0            57.0  \n"
     ]
    }
   ],
   "source": [
    "## Split out the results for most/best combination\n",
    "\n",
    "orig_scoped = orig_data.merge(datascope,on='search term',how='left')\n",
    "#print(orig_scoped.head(n=2))\n",
    "print(len(orig_scoped))\n",
    "\n",
    "orig_1 = orig_scoped[['round','test','search term','scope','domain','test type','combo 1','ps 1','time 1']].copy()\n",
    "orig_1.rename(columns={'combo 1':'selection','ps 1':'participants','time 1':'selection time'}, inplace=True)\n",
    "orig_2 = orig_scoped[['round','test','search term','scope','domain','test type','combo 2','ps 2','time 2']].copy()\n",
    "orig_2.rename(columns={'combo 2':'selection','ps 2':'participants','time 2':'selection time'}, inplace=True)\n",
    "orig_3 = orig_scoped[['round','test','search term','scope','domain','test type','combo 3','ps 3','time 3']].copy()\n",
    "orig_3.rename(columns={'combo 3':'selection','ps 3':'participants','time 3':'selection time'}, inplace=True)\n",
    "orig_4 = orig_scoped[['round','test','search term','scope','domain','test type','combo 4','ps 4','time 4']].copy()\n",
    "orig_4.rename(columns={'combo 4':'selection','ps 4':'participants','time 4':'selection time'}, inplace=True)\n",
    "all_results = pd.concat((orig_1,orig_2,orig_3,orig_4),ignore_index=True)\n",
    "print(all_results.head(n=2))"
   ]
  },
  {
   "cell_type": "code",
   "execution_count": 6,
   "id": "c6528f5f",
   "metadata": {},
   "outputs": [
    {
     "name": "stdout",
     "output_type": "stream",
     "text": [
      "204 204\n"
     ]
    }
   ],
   "source": [
    "most_only = all_results.loc[all_results['test type']=='M']\n",
    "least_only = all_results.loc[all_results['test type']=='L']\n",
    "print(len(most_only), len(least_only))"
   ]
  },
  {
   "cell_type": "code",
   "execution_count": 8,
   "id": "f8288700",
   "metadata": {},
   "outputs": [],
   "source": [
    "## export the results\n",
    "most_only.to_csv(os.path.join(datapath,'most_likely.tsv'),sep='\\t',header=True)\n",
    "least_only.to_csv(os.path.join(datapath,'least_likely.tsv'),sep='\\t',header=True)"
   ]
  },
  {
   "cell_type": "code",
   "execution_count": null,
   "id": "bcfe1677",
   "metadata": {},
   "outputs": [],
   "source": []
  }
 ],
 "metadata": {
  "kernelspec": {
   "display_name": "Python 3 (ipykernel)",
   "language": "python",
   "name": "python3"
  },
  "language_info": {
   "codemirror_mode": {
    "name": "ipython",
    "version": 3
   },
   "file_extension": ".py",
   "mimetype": "text/x-python",
   "name": "python",
   "nbconvert_exporter": "python",
   "pygments_lexer": "ipython3",
   "version": "3.10.10"
  }
 },
 "nbformat": 4,
 "nbformat_minor": 5
}
