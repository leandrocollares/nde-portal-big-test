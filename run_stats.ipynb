{
 "cells": [
  {
   "cell_type": "code",
   "execution_count": 1,
   "id": "b772ec79",
   "metadata": {},
   "outputs": [],
   "source": [
    "import os\n",
    "import pandas as pd\n",
    "import scipy.stats as stats\n",
    "import numpy as np\n",
    "from itertools import combinations\n",
    "from datetime import datetime"
   ]
  },
  {
   "cell_type": "code",
   "execution_count": 2,
   "id": "d710866a",
   "metadata": {},
   "outputs": [],
   "source": [
    "script_path = os.getcwd()\n",
    "datapath = os.path.join(script_path,'data')\n",
    "resultpath = os.path.join(script_path,'results')\n",
    "most_likely = pd.read_csv(os.path.join(datapath,'most_likely.tsv'),delimiter='\\t',header=0)\n",
    "least_likely = pd.read_csv(os.path.join(datapath,'least_likely.tsv'),delimiter='\\t',header=0)"
   ]
  },
  {
   "cell_type": "code",
   "execution_count": 3,
   "id": "52528461",
   "metadata": {},
   "outputs": [],
   "source": [
    "## load parameters into dictionaries\n",
    "resultsdict = {'most_likely':most_likely,'least_likely':least_likely}\n",
    "grouptype = {'selection_only':['selection'],'scope':['scope','selection'],\n",
    "             'domain':['domain','selection'],'round':['round','selection']}\n"
   ]
  },
  {
   "cell_type": "code",
   "execution_count": 4,
   "id": "1456f803",
   "metadata": {},
   "outputs": [],
   "source": [
    "def get_basic_stats(resultsdict,grouptype,resultopt,aggname,export='y'):\n",
    "    aggoption = grouptype[aggname]\n",
    "    results2test = resultsdict[resultopt]\n",
    "    tmpselect = results2test.groupby(aggoption)['participants'].sum().reset_index(name='total votes')\n",
    "    totals = selection_only['total votes'].sum()\n",
    "    tmpselect['selection mean'] = tmpselect['total votes']/totals\n",
    "    tmpselect['per test mean'] = results2test.groupby(aggoption)['participants'].mean().tolist()\n",
    "    tmpselect['per test stdev'] = results2test.groupby(aggoption)['participants'].std().tolist()\n",
    "    tmpselect['per test stderr'] = results2test.groupby(aggoption)['participants'].sem().tolist()\n",
    "    tstamp = datetime.now()\n",
    "    sttstamp = tstamp.strftime(\"%Y-%m-%d\")\n",
    "    if export == 'y':\n",
    "        tmpselect.to_csv(os.path.join(resultpath,sttstamp+'_'+resultopt+'_'+aggname+'.tsv'),sep='\\t',header=True)\n",
    "    else:\n",
    "        return tmpselect"
   ]
  },
  {
   "cell_type": "code",
   "execution_count": 5,
   "id": "e0f02177",
   "metadata": {},
   "outputs": [],
   "source": [
    "def run_all_basic_stats(resultsdict,grouptype,export='y'):\n",
    "    resultoptlist = list(resultsdict.keys())\n",
    "    aggnamelist = list(grouptype.keys())\n",
    "    for resultopt in resultoptlist:\n",
    "        for aggname in aggnamelist:\n",
    "            get_basic_stats(resultsdict,grouptype,resultopt,aggname,export)"
   ]
  },
  {
   "cell_type": "code",
   "execution_count": null,
   "id": "2993d167",
   "metadata": {},
   "outputs": [],
   "source": [
    "run_all_basic_stats(resultsdict,grouptype,export='y')"
   ]
  },
  {
   "cell_type": "code",
   "execution_count": 6,
   "id": "a0374fbb",
   "metadata": {},
   "outputs": [],
   "source": [
    "def run_t_tests(resultsdict,grouptype,resultopt,export='y'):\n",
    "    tstamp = datetime.now()\n",
    "    sttstamp = tstamp.strftime(\"%Y-%m-%d\")\n",
    "    aggopt = 'selection_only'\n",
    "    aggname = grouptype[aggopt]\n",
    "    results2test = resultsdict[resultopt]\n",
    "    nonans = results2test['selection'].dropna()\n",
    "    combilist = nonans.unique().tolist()\n",
    "    selection_dict = {}\n",
    "    for eachselect in combilist:\n",
    "        selection_dict[eachselect] = np.array(results2test['participants'].loc[results2test['selection']==eachselect].tolist())\n",
    "    tmpresult = []\n",
    "    for combo in combinations(combilist, 2):  \n",
    "        a1 = selection_dict[combo[0]]\n",
    "        a2 = selection_dict[combo[1]]\n",
    "        tmpstat, tmp_p = stats.ttest_ind(a1, a2)\n",
    "        tmpdict = {\"function 1\":combo[0], \"function 2\":combo[1],\n",
    "                   \"mean 1\": a1.mean(), \"mean 2\": a2.mean(),\n",
    "                   \"stdev 1\": a1.std(), \"stdev 2\": a2.std(),\n",
    "                   \"t-test\": tmpstat, \"p-val\": tmp_p,\n",
    "                   \"aggregation approach\": aggopt, \"run-date\":sttstamp}\n",
    "        tmpresult.append(tmpdict)\n",
    "\n",
    "    statisticsdf = pd.DataFrame(tmpresult)\n",
    "    print(statisticsdf.head(n=2))\n",
    "    if export == 'y':\n",
    "        statisticsdf.to_csv(os.path.join(resultpath,sttstamp+'_user_choice_only_'+resultopt+'.tsv'),sep='\\t',header=True)\n",
    "    else:\n",
    "        return statisticsdf"
   ]
  },
  {
   "cell_type": "code",
   "execution_count": 7,
   "id": "1413849a",
   "metadata": {},
   "outputs": [
    {
     "name": "stdout",
     "output_type": "stream",
     "text": [
      "  function 1 function 2    mean 1    mean 2   stdev 1   stdev 2    t-test  \\\n",
      "0         c1         c3  1.962963  0.869565  1.170042  0.946589  3.518481   \n",
      "1         c1         c2  1.962963  0.958333  1.170042  0.934486  3.293725   \n",
      "\n",
      "      p-val aggregation approach    run-date  \n",
      "0  0.000961       selection_only  2024-04-10  \n",
      "1  0.001841       selection_only  2024-04-10  \n"
     ]
    },
    {
     "name": "stderr",
     "output_type": "stream",
     "text": [
      "C:\\Users\\gtsueng\\AppData\\Local\\Temp\\ipykernel_1684\\1944825550.py:16: RuntimeWarning: Precision loss occurred in moment calculation due to catastrophic cancellation. This occurs when the data are nearly identical. Results may be unreliable.\n",
      "  tmpstat, tmp_p = stats.ttest_ind(a1, a2)\n",
      "C:\\Users\\gtsueng\\Anaconda3\\envs\\nde\\lib\\site-packages\\scipy\\stats\\_stats_py.py:1214: RuntimeWarning: divide by zero encountered in divide\n",
      "  var *= np.divide(n, n-ddof)  # to avoid error on division by zero\n",
      "C:\\Users\\gtsueng\\Anaconda3\\envs\\nde\\lib\\site-packages\\scipy\\stats\\_stats_py.py:1214: RuntimeWarning: invalid value encountered in scalar multiply\n",
      "  var *= np.divide(n, n-ddof)  # to avoid error on division by zero\n"
     ]
    }
   ],
   "source": [
    "run_t_tests(resultsdict,grouptype,'most_likely',export='y')"
   ]
  },
  {
   "cell_type": "markdown",
   "id": "c477eaf6",
   "metadata": {},
   "source": [
    "### Test components of the script"
   ]
  },
  {
   "cell_type": "code",
   "execution_count": null,
   "id": "f2f908d1",
   "metadata": {},
   "outputs": [],
   "source": [
    "tstamp = datetime.now()\n",
    "print(tstamp.strftime(\"%Y-%m-%d\"))"
   ]
  },
  {
   "cell_type": "code",
   "execution_count": null,
   "id": "d62eab6e",
   "metadata": {},
   "outputs": [],
   "source": [
    "## Get the Totals, Mean, Standard Deviation, Standard Error based on groupings by user selection\n",
    "resultopt = 'most_likely'\n",
    "aggopt = 'selection_only'\n",
    "aggname = grouptype[aggopt]\n",
    "results2test = resultsdict[resultopt]\n",
    "tmpselect = results2test.groupby(aggname)['participants'].sum().reset_index(name='total votes')\n",
    "totals = selection_only['total votes'].sum()\n",
    "print(totals)\n",
    "tmpselect['selection mean'] = tmpselect['total votes']/totals\n",
    "tmpselect['per test mean'] = results2test.groupby(grouptype['selection_only'])['participants'].mean().tolist()\n",
    "tmpselect['per test stdev'] = results2test.groupby(grouptype['selection_only'])['participants'].std().tolist()\n",
    "tmpselect['per test stderr'] = results2test.groupby(grouptype['selection_only'])['participants'].sem().tolist()\n",
    "print(tmpselect.head(n=2))"
   ]
  },
  {
   "cell_type": "code",
   "execution_count": null,
   "id": "246bea44",
   "metadata": {},
   "outputs": [],
   "source": [
    "## Perform single t-tests\n",
    "resultopt = 'most_likely'\n",
    "aggopt = 'selection_only'\n",
    "aggname = grouptype[aggopt]\n",
    "results2test = resultsdict[resultopt]\n",
    "\n",
    "c1 = np.array(results2test['participants'].loc[results2test['selection']=='c1'].tolist())\n",
    "c2 = np.array(results2test['participants'].loc[results2test['selection']=='c2'].tolist())\n",
    "c3 = np.array(results2test['participants'].loc[results2test['selection']=='c3'].tolist())\n",
    "c4 = np.array(results2test['participants'].loc[results2test['selection']=='c4'].tolist())\n",
    "\n",
    "print(\"c1 vs c2: \",stats.ttest_ind(c1, c2))\n",
    "print(\"c2 vs c3: \",stats.ttest_ind(c2, c3))\n",
    "print(\"c1 vs c3: \",stats.ttest_ind(c1, c3))\n",
    "print(\"c1 vs c4: \",stats.ttest_ind(c1, c4))\n",
    "print(\"c2 vs c4: \",stats.ttest_ind(c2, c4))\n",
    "print(\"c3 vs c4: \",stats.ttest_ind(c3, c4))"
   ]
  },
  {
   "cell_type": "code",
   "execution_count": null,
   "id": "3ed4be7f",
   "metadata": {},
   "outputs": [],
   "source": [
    "statistic, pvalue = stats.ttest_ind(c3, c4)\n",
    "print(len(c3), len(c4), statistic,pvalue)\n",
    "print(c3.mean(),c3.std())"
   ]
  },
  {
   "cell_type": "code",
   "execution_count": null,
   "id": "973c93f6",
   "metadata": {},
   "outputs": [],
   "source": []
  },
  {
   "cell_type": "code",
   "execution_count": null,
   "id": "01c7d0fb",
   "metadata": {},
   "outputs": [],
   "source": [
    "#### automate comparisons and t-tests\n",
    "\n",
    "## get the unique combis selected\n",
    "nonans = results2test['selection'].dropna()\n",
    "combilist = nonans.unique().tolist()\n",
    "print(combilist)\n",
    "\n",
    "## create a dictionary of the combis and the np arrays of the result dfs\n",
    "selection_dict = {}\n",
    "for eachselect in combilist:\n",
    "    selection_dict[eachselect] = np.array(results2test['participants'].loc[results2test['selection']==eachselect].tolist())\n",
    "\n",
    "## iterate through different combinations of the combis, run t-tests, and store the results\n",
    "tmpresult = []\n",
    "for combo in combinations(combilist, 2):  # 2 for pairs, 3 for triplets, etc\n",
    "    a1 = selection_dict[combo[0]]\n",
    "    a2 = selection_dict[combo[1]]\n",
    "    tmpstat, tmp_p = stats.ttest_ind(a1, a2)\n",
    "    tmpdict = {\"function 1\":combo[0], \"function 2\":combo[1],\n",
    "               \"mean 1\": a1.mean(), \"mean 2\": a2.mean(),\n",
    "               \"stdev 1\": a1.std(), \"stdev 2\": a2.std(),\n",
    "               \"t-test\": tmpstat, \"p-val\": tmp_p,\n",
    "               \"aggregation approach\": \"selection only\"}\n",
    "    tmpresult.append(tmpdict)\n",
    "\n",
    "statisticsdf = pd.DataFrame(tmpresult)\n",
    "print(statisticsdf.head(n=2))\n",
    "#statisticsdf.to_csv(os.path.join(resultpath,'user_choice_only_most.tsv'),sep='\\t',header=True)\n",
    "statisticsdf.to_csv(os.path.join(resultpath,'user_choice_only_least.tsv'),sep='\\t',header=True)"
   ]
  },
  {
   "cell_type": "markdown",
   "id": "3627a5c1",
   "metadata": {},
   "source": [
    "### Investigate effect of different groupings (domain or scope) on selection"
   ]
  },
  {
   "cell_type": "code",
   "execution_count": null,
   "id": "0a0f7362",
   "metadata": {},
   "outputs": [],
   "source": [
    "## Subset and then perform t-tests\n",
    "tmpgroup = results2test.loc[results2test['scope']=='broad']\n",
    "tmpgroup2 = results2test.loc[results2test['scope']=='somewhat specific']\n",
    "c1_broad = np.array(tmpgroup['participants'].loc[tmpgroup['selection']=='c1'].tolist())\n",
    "c2_broad = np.array(tmpgroup['participants'].loc[tmpgroup['selection']=='c2'].tolist())\n",
    "c1_ss = np.array(tmpgroup2['participants'].loc[tmpgroup2['selection']=='c1'].tolist())\n",
    "c2_ss = np.array(tmpgroup2['participants'].loc[tmpgroup2['selection']=='c2'].tolist())\n",
    "print(\"broad terms, c1 vs c2: \",stats.ttest_ind(c1_broad, c2_broad))\n",
    "print(\"somewhat specific, c1 vs c2: \",stats.ttest_ind(c1_ss, c2_ss))"
   ]
  },
  {
   "cell_type": "code",
   "execution_count": null,
   "id": "33a746ee",
   "metadata": {},
   "outputs": [],
   "source": [
    "## Perform paired t-test based on grouping\n",
    "tmpgroup = results2test.groupby(['selection','scope'])['participants'].sum().reset_index(name='votes')\n",
    "print(tmpgroup.head(n=2))\n",
    "c1_group = np.array(tmpgroup['votes'].loc[tmpgroup['selection']=='c1'].tolist())\n",
    "c2_group = np.array(tmpgroup['votes'].loc[tmpgroup['selection']=='c2'].tolist())\n",
    "## create arrays that follow a specific order to ensure proper pairing\n",
    "\n",
    "## Conduct paired t-test\n",
    "tmpstat,tmp_p = stats.ttest_rel(c1_group,c2_group)\n",
    "print(tmpstat,tmp_p)"
   ]
  },
  {
   "cell_type": "code",
   "execution_count": null,
   "id": "0e1f31b3",
   "metadata": {},
   "outputs": [],
   "source": []
  }
 ],
 "metadata": {
  "kernelspec": {
   "display_name": "Python 3 (ipykernel)",
   "language": "python",
   "name": "python3"
  },
  "language_info": {
   "codemirror_mode": {
    "name": "ipython",
    "version": 3
   },
   "file_extension": ".py",
   "mimetype": "text/x-python",
   "name": "python",
   "nbconvert_exporter": "python",
   "pygments_lexer": "ipython3",
   "version": "3.10.10"
  }
 },
 "nbformat": 4,
 "nbformat_minor": 5
}
